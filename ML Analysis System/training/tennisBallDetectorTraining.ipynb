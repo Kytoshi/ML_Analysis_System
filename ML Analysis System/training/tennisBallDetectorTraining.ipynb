{
 "cells": [
  {
   "cell_type": "markdown",
   "id": "cf623f5f",
   "metadata": {
    "vscode": {
     "languageId": "plaintext"
    }
   },
   "source": [
    "# Get Data Set"
   ]
  },
  {
   "cell_type": "code",
   "execution_count": 1,
   "id": "34e69537",
   "metadata": {},
   "outputs": [
    {
     "name": "stdout",
     "output_type": "stream",
     "text": [
      "Requirement already satisfied: Roboflow in c:\\users\\koichik\\documents\\github\\kytoshi-portfolio\\ml analysis system\\.venv\\lib\\site-packages (1.2.3)\n",
      "Requirement already satisfied: certifi in c:\\users\\koichik\\documents\\github\\kytoshi-portfolio\\ml analysis system\\.venv\\lib\\site-packages (from Roboflow) (2025.8.3)\n",
      "Requirement already satisfied: idna==3.7 in c:\\users\\koichik\\documents\\github\\kytoshi-portfolio\\ml analysis system\\.venv\\lib\\site-packages (from Roboflow) (3.7)\n",
      "Requirement already satisfied: cycler in c:\\users\\koichik\\documents\\github\\kytoshi-portfolio\\ml analysis system\\.venv\\lib\\site-packages (from Roboflow) (0.12.1)\n",
      "Requirement already satisfied: kiwisolver>=1.3.1 in c:\\users\\koichik\\documents\\github\\kytoshi-portfolio\\ml analysis system\\.venv\\lib\\site-packages (from Roboflow) (1.4.8)\n",
      "Requirement already satisfied: matplotlib in c:\\users\\koichik\\documents\\github\\kytoshi-portfolio\\ml analysis system\\.venv\\lib\\site-packages (from Roboflow) (3.10.5)\n",
      "Requirement already satisfied: numpy>=1.18.5 in c:\\users\\koichik\\documents\\github\\kytoshi-portfolio\\ml analysis system\\.venv\\lib\\site-packages (from Roboflow) (2.2.6)\n",
      "Requirement already satisfied: opencv-python-headless==4.10.0.84 in c:\\users\\koichik\\documents\\github\\kytoshi-portfolio\\ml analysis system\\.venv\\lib\\site-packages (from Roboflow) (4.10.0.84)\n",
      "Requirement already satisfied: Pillow>=7.1.2 in c:\\users\\koichik\\documents\\github\\kytoshi-portfolio\\ml analysis system\\.venv\\lib\\site-packages (from Roboflow) (11.3.0)\n",
      "Requirement already satisfied: pi-heif<2 in c:\\users\\koichik\\documents\\github\\kytoshi-portfolio\\ml analysis system\\.venv\\lib\\site-packages (from Roboflow) (1.1.0)\n",
      "Requirement already satisfied: pillow-avif-plugin<2 in c:\\users\\koichik\\documents\\github\\kytoshi-portfolio\\ml analysis system\\.venv\\lib\\site-packages (from Roboflow) (1.5.2)\n",
      "Requirement already satisfied: python-dateutil in c:\\users\\koichik\\documents\\github\\kytoshi-portfolio\\ml analysis system\\.venv\\lib\\site-packages (from Roboflow) (2.9.0.post0)\n",
      "Requirement already satisfied: python-dotenv in c:\\users\\koichik\\documents\\github\\kytoshi-portfolio\\ml analysis system\\.venv\\lib\\site-packages (from Roboflow) (1.1.1)\n",
      "Requirement already satisfied: requests in c:\\users\\koichik\\documents\\github\\kytoshi-portfolio\\ml analysis system\\.venv\\lib\\site-packages (from Roboflow) (2.32.4)\n",
      "Requirement already satisfied: six in c:\\users\\koichik\\documents\\github\\kytoshi-portfolio\\ml analysis system\\.venv\\lib\\site-packages (from Roboflow) (1.17.0)\n",
      "Requirement already satisfied: urllib3>=1.26.6 in c:\\users\\koichik\\documents\\github\\kytoshi-portfolio\\ml analysis system\\.venv\\lib\\site-packages (from Roboflow) (2.5.0)\n",
      "Requirement already satisfied: tqdm>=4.41.0 in c:\\users\\koichik\\documents\\github\\kytoshi-portfolio\\ml analysis system\\.venv\\lib\\site-packages (from Roboflow) (4.67.1)\n",
      "Requirement already satisfied: PyYAML>=5.3.1 in c:\\users\\koichik\\documents\\github\\kytoshi-portfolio\\ml analysis system\\.venv\\lib\\site-packages (from Roboflow) (6.0.2)\n",
      "Requirement already satisfied: requests-toolbelt in c:\\users\\koichik\\documents\\github\\kytoshi-portfolio\\ml analysis system\\.venv\\lib\\site-packages (from Roboflow) (1.0.0)\n",
      "Requirement already satisfied: filetype in c:\\users\\koichik\\documents\\github\\kytoshi-portfolio\\ml analysis system\\.venv\\lib\\site-packages (from Roboflow) (1.2.0)\n",
      "Requirement already satisfied: colorama in c:\\users\\koichik\\documents\\github\\kytoshi-portfolio\\ml analysis system\\.venv\\lib\\site-packages (from tqdm>=4.41.0->Roboflow) (0.4.6)\n",
      "Requirement already satisfied: contourpy>=1.0.1 in c:\\users\\koichik\\documents\\github\\kytoshi-portfolio\\ml analysis system\\.venv\\lib\\site-packages (from matplotlib->Roboflow) (1.3.3)\n",
      "Requirement already satisfied: fonttools>=4.22.0 in c:\\users\\koichik\\documents\\github\\kytoshi-portfolio\\ml analysis system\\.venv\\lib\\site-packages (from matplotlib->Roboflow) (4.59.0)\n",
      "Requirement already satisfied: packaging>=20.0 in c:\\users\\koichik\\documents\\github\\kytoshi-portfolio\\ml analysis system\\.venv\\lib\\site-packages (from matplotlib->Roboflow) (25.0)\n",
      "Requirement already satisfied: pyparsing>=2.3.1 in c:\\users\\koichik\\documents\\github\\kytoshi-portfolio\\ml analysis system\\.venv\\lib\\site-packages (from matplotlib->Roboflow) (3.2.3)\n",
      "Requirement already satisfied: charset_normalizer<4,>=2 in c:\\users\\koichik\\documents\\github\\kytoshi-portfolio\\ml analysis system\\.venv\\lib\\site-packages (from requests->Roboflow) (3.4.2)\n",
      "Requirement already satisfied: ultralytics in c:\\users\\koichik\\documents\\github\\kytoshi-portfolio\\ml analysis system\\.venv\\lib\\site-packages (8.3.175)\n",
      "Requirement already satisfied: numpy>=1.23.0 in c:\\users\\koichik\\documents\\github\\kytoshi-portfolio\\ml analysis system\\.venv\\lib\\site-packages (from ultralytics) (2.2.6)\n",
      "Requirement already satisfied: matplotlib>=3.3.0 in c:\\users\\koichik\\documents\\github\\kytoshi-portfolio\\ml analysis system\\.venv\\lib\\site-packages (from ultralytics) (3.10.5)\n",
      "Requirement already satisfied: opencv-python>=4.6.0 in c:\\users\\koichik\\documents\\github\\kytoshi-portfolio\\ml analysis system\\.venv\\lib\\site-packages (from ultralytics) (4.12.0.88)\n",
      "Requirement already satisfied: pillow>=7.1.2 in c:\\users\\koichik\\documents\\github\\kytoshi-portfolio\\ml analysis system\\.venv\\lib\\site-packages (from ultralytics) (11.3.0)\n",
      "Requirement already satisfied: pyyaml>=5.3.1 in c:\\users\\koichik\\documents\\github\\kytoshi-portfolio\\ml analysis system\\.venv\\lib\\site-packages (from ultralytics) (6.0.2)\n",
      "Requirement already satisfied: requests>=2.23.0 in c:\\users\\koichik\\documents\\github\\kytoshi-portfolio\\ml analysis system\\.venv\\lib\\site-packages (from ultralytics) (2.32.4)\n",
      "Requirement already satisfied: scipy>=1.4.1 in c:\\users\\koichik\\documents\\github\\kytoshi-portfolio\\ml analysis system\\.venv\\lib\\site-packages (from ultralytics) (1.16.1)\n",
      "Requirement already satisfied: torch>=1.8.0 in c:\\users\\koichik\\documents\\github\\kytoshi-portfolio\\ml analysis system\\.venv\\lib\\site-packages (from ultralytics) (2.8.0)\n",
      "Requirement already satisfied: torchvision>=0.9.0 in c:\\users\\koichik\\documents\\github\\kytoshi-portfolio\\ml analysis system\\.venv\\lib\\site-packages (from ultralytics) (0.23.0)\n",
      "Requirement already satisfied: tqdm>=4.64.0 in c:\\users\\koichik\\documents\\github\\kytoshi-portfolio\\ml analysis system\\.venv\\lib\\site-packages (from ultralytics) (4.67.1)\n",
      "Requirement already satisfied: psutil in c:\\users\\koichik\\documents\\github\\kytoshi-portfolio\\ml analysis system\\.venv\\lib\\site-packages (from ultralytics) (7.0.0)\n",
      "Requirement already satisfied: py-cpuinfo in c:\\users\\koichik\\documents\\github\\kytoshi-portfolio\\ml analysis system\\.venv\\lib\\site-packages (from ultralytics) (9.0.0)\n",
      "Requirement already satisfied: pandas>=1.1.4 in c:\\users\\koichik\\documents\\github\\kytoshi-portfolio\\ml analysis system\\.venv\\lib\\site-packages (from ultralytics) (2.3.1)\n",
      "Requirement already satisfied: ultralytics-thop>=2.0.0 in c:\\users\\koichik\\documents\\github\\kytoshi-portfolio\\ml analysis system\\.venv\\lib\\site-packages (from ultralytics) (2.0.15)\n",
      "Requirement already satisfied: contourpy>=1.0.1 in c:\\users\\koichik\\documents\\github\\kytoshi-portfolio\\ml analysis system\\.venv\\lib\\site-packages (from matplotlib>=3.3.0->ultralytics) (1.3.3)\n",
      "Requirement already satisfied: cycler>=0.10 in c:\\users\\koichik\\documents\\github\\kytoshi-portfolio\\ml analysis system\\.venv\\lib\\site-packages (from matplotlib>=3.3.0->ultralytics) (0.12.1)\n",
      "Requirement already satisfied: fonttools>=4.22.0 in c:\\users\\koichik\\documents\\github\\kytoshi-portfolio\\ml analysis system\\.venv\\lib\\site-packages (from matplotlib>=3.3.0->ultralytics) (4.59.0)\n",
      "Requirement already satisfied: kiwisolver>=1.3.1 in c:\\users\\koichik\\documents\\github\\kytoshi-portfolio\\ml analysis system\\.venv\\lib\\site-packages (from matplotlib>=3.3.0->ultralytics) (1.4.8)\n",
      "Requirement already satisfied: packaging>=20.0 in c:\\users\\koichik\\documents\\github\\kytoshi-portfolio\\ml analysis system\\.venv\\lib\\site-packages (from matplotlib>=3.3.0->ultralytics) (25.0)\n",
      "Requirement already satisfied: pyparsing>=2.3.1 in c:\\users\\koichik\\documents\\github\\kytoshi-portfolio\\ml analysis system\\.venv\\lib\\site-packages (from matplotlib>=3.3.0->ultralytics) (3.2.3)\n",
      "Requirement already satisfied: python-dateutil>=2.7 in c:\\users\\koichik\\documents\\github\\kytoshi-portfolio\\ml analysis system\\.venv\\lib\\site-packages (from matplotlib>=3.3.0->ultralytics) (2.9.0.post0)\n",
      "Requirement already satisfied: pytz>=2020.1 in c:\\users\\koichik\\documents\\github\\kytoshi-portfolio\\ml analysis system\\.venv\\lib\\site-packages (from pandas>=1.1.4->ultralytics) (2025.2)\n",
      "Requirement already satisfied: tzdata>=2022.7 in c:\\users\\koichik\\documents\\github\\kytoshi-portfolio\\ml analysis system\\.venv\\lib\\site-packages (from pandas>=1.1.4->ultralytics) (2025.2)\n",
      "Requirement already satisfied: six>=1.5 in c:\\users\\koichik\\documents\\github\\kytoshi-portfolio\\ml analysis system\\.venv\\lib\\site-packages (from python-dateutil>=2.7->matplotlib>=3.3.0->ultralytics) (1.17.0)\n",
      "Requirement already satisfied: charset_normalizer<4,>=2 in c:\\users\\koichik\\documents\\github\\kytoshi-portfolio\\ml analysis system\\.venv\\lib\\site-packages (from requests>=2.23.0->ultralytics) (3.4.2)\n",
      "Requirement already satisfied: idna<4,>=2.5 in c:\\users\\koichik\\documents\\github\\kytoshi-portfolio\\ml analysis system\\.venv\\lib\\site-packages (from requests>=2.23.0->ultralytics) (3.7)\n",
      "Requirement already satisfied: urllib3<3,>=1.21.1 in c:\\users\\koichik\\documents\\github\\kytoshi-portfolio\\ml analysis system\\.venv\\lib\\site-packages (from requests>=2.23.0->ultralytics) (2.5.0)\n",
      "Requirement already satisfied: certifi>=2017.4.17 in c:\\users\\koichik\\documents\\github\\kytoshi-portfolio\\ml analysis system\\.venv\\lib\\site-packages (from requests>=2.23.0->ultralytics) (2025.8.3)\n",
      "Requirement already satisfied: filelock in c:\\users\\koichik\\documents\\github\\kytoshi-portfolio\\ml analysis system\\.venv\\lib\\site-packages (from torch>=1.8.0->ultralytics) (3.18.0)\n",
      "Requirement already satisfied: typing-extensions>=4.10.0 in c:\\users\\koichik\\documents\\github\\kytoshi-portfolio\\ml analysis system\\.venv\\lib\\site-packages (from torch>=1.8.0->ultralytics) (4.14.1)\n",
      "Requirement already satisfied: sympy>=1.13.3 in c:\\users\\koichik\\documents\\github\\kytoshi-portfolio\\ml analysis system\\.venv\\lib\\site-packages (from torch>=1.8.0->ultralytics) (1.14.0)\n",
      "Requirement already satisfied: networkx in c:\\users\\koichik\\documents\\github\\kytoshi-portfolio\\ml analysis system\\.venv\\lib\\site-packages (from torch>=1.8.0->ultralytics) (3.5)\n",
      "Requirement already satisfied: jinja2 in c:\\users\\koichik\\documents\\github\\kytoshi-portfolio\\ml analysis system\\.venv\\lib\\site-packages (from torch>=1.8.0->ultralytics) (3.1.6)\n",
      "Requirement already satisfied: fsspec in c:\\users\\koichik\\documents\\github\\kytoshi-portfolio\\ml analysis system\\.venv\\lib\\site-packages (from torch>=1.8.0->ultralytics) (2025.7.0)\n",
      "Requirement already satisfied: setuptools in c:\\users\\koichik\\documents\\github\\kytoshi-portfolio\\ml analysis system\\.venv\\lib\\site-packages (from torch>=1.8.0->ultralytics) (80.9.0)\n",
      "Requirement already satisfied: mpmath<1.4,>=1.1.0 in c:\\users\\koichik\\documents\\github\\kytoshi-portfolio\\ml analysis system\\.venv\\lib\\site-packages (from sympy>=1.13.3->torch>=1.8.0->ultralytics) (1.3.0)\n",
      "Requirement already satisfied: colorama in c:\\users\\koichik\\documents\\github\\kytoshi-portfolio\\ml analysis system\\.venv\\lib\\site-packages (from tqdm>=4.64.0->ultralytics) (0.4.6)\n",
      "Requirement already satisfied: MarkupSafe>=2.0 in c:\\users\\koichik\\documents\\github\\kytoshi-portfolio\\ml analysis system\\.venv\\lib\\site-packages (from jinja2->torch>=1.8.0->ultralytics) (3.0.2)\n"
     ]
    }
   ],
   "source": [
    "!pip install Roboflow\n",
    "!pip install ultralytics"
   ]
  },
  {
   "cell_type": "code",
   "execution_count": 2,
   "id": "f9267941",
   "metadata": {},
   "outputs": [
    {
     "name": "stdout",
     "output_type": "stream",
     "text": [
      "loading Roboflow workspace...\n",
      "loading Roboflow project...\n"
     ]
    }
   ],
   "source": [
    "from roboflow import Roboflow\n",
    "rf = Roboflow(api_key=\"2kWahq5dBVRcq6T9db7N\")\n",
    "project = rf.workspace(\"viren-dhanwani\").project(\"tennis-ball-detection\")\n",
    "version = project.version(6)\n",
    "dataset = version.download(\"yolov5\")"
   ]
  },
  {
   "cell_type": "code",
   "execution_count": 3,
   "id": "410c804e",
   "metadata": {},
   "outputs": [],
   "source": [
    "import shutil\n"
   ]
  },
  {
   "cell_type": "code",
   "execution_count": 4,
   "id": "d1524b84",
   "metadata": {},
   "outputs": [
    {
     "ename": "FileNotFoundError",
     "evalue": "[WinError 2] The system cannot find the file specified",
     "output_type": "error",
     "traceback": [
      "\u001b[31m---------------------------------------------------------------------------\u001b[39m",
      "\u001b[31mFileNotFoundError\u001b[39m                         Traceback (most recent call last)",
      "\u001b[36mFile \u001b[39m\u001b[32mC:\\Program Files\\WindowsApps\\PythonSoftwareFoundation.Python.3.13_3.13.1776.0_x64__qbz5n2kfra8p0\\Lib\\shutil.py:856\u001b[39m, in \u001b[36mmove\u001b[39m\u001b[34m(src, dst, copy_function)\u001b[39m\n\u001b[32m    855\u001b[39m \u001b[38;5;28;01mtry\u001b[39;00m:\n\u001b[32m--> \u001b[39m\u001b[32m856\u001b[39m     \u001b[43mos\u001b[49m\u001b[43m.\u001b[49m\u001b[43mrename\u001b[49m\u001b[43m(\u001b[49m\u001b[43msrc\u001b[49m\u001b[43m,\u001b[49m\u001b[43m \u001b[49m\u001b[43mreal_dst\u001b[49m\u001b[43m)\u001b[49m\n\u001b[32m    857\u001b[39m \u001b[38;5;28;01mexcept\u001b[39;00m \u001b[38;5;167;01mOSError\u001b[39;00m:\n",
      "\u001b[31mFileNotFoundError\u001b[39m: [WinError 2] The system cannot find the file specified: 'tennis-ball-detection-6/train' -> 'tennis-ball-detection-6/tennis-ball-detection-6/train\\\\train'",
      "\nDuring handling of the above exception, another exception occurred:\n",
      "\u001b[31mFileNotFoundError\u001b[39m                         Traceback (most recent call last)",
      "\u001b[36mCell\u001b[39m\u001b[36m \u001b[39m\u001b[32mIn[4]\u001b[39m\u001b[32m, line 1\u001b[39m\n\u001b[32m----> \u001b[39m\u001b[32m1\u001b[39m \u001b[43mshutil\u001b[49m\u001b[43m.\u001b[49m\u001b[43mmove\u001b[49m\u001b[43m(\u001b[49m\u001b[33;43m\"\u001b[39;49m\u001b[33;43mtennis-ball-detection-6/train\u001b[39;49m\u001b[33;43m\"\u001b[39;49m\u001b[43m,\u001b[49m\n\u001b[32m      2\u001b[39m \u001b[33;43m\"\u001b[39;49m\u001b[33;43mtennis-ball-detection-6/tennis-ball-detection-6/train\u001b[39;49m\u001b[33;43m\"\u001b[39;49m\u001b[43m)\u001b[49m\n\u001b[32m      3\u001b[39m shutil.move(\u001b[33m\"\u001b[39m\u001b[33mtennis-ball-detection-6/test\u001b[39m\u001b[33m\"\u001b[39m,\n\u001b[32m      4\u001b[39m \u001b[33m\"\u001b[39m\u001b[33mtennis-ball-detection-6/tennis-ball-detection-6/test\u001b[39m\u001b[33m\"\u001b[39m)\n\u001b[32m      5\u001b[39m shutil.move(\u001b[33m\"\u001b[39m\u001b[33mtennis-ball-detection-6/valid\u001b[39m\u001b[33m\"\u001b[39m,\n\u001b[32m      6\u001b[39m \u001b[33m\"\u001b[39m\u001b[33mtennis-ball-detection-6/tennis-ball-detection-6/valid\u001b[39m\u001b[33m\"\u001b[39m)\n",
      "\u001b[36mFile \u001b[39m\u001b[32mC:\\Program Files\\WindowsApps\\PythonSoftwareFoundation.Python.3.13_3.13.1776.0_x64__qbz5n2kfra8p0\\Lib\\shutil.py:876\u001b[39m, in \u001b[36mmove\u001b[39m\u001b[34m(src, dst, copy_function)\u001b[39m\n\u001b[32m    874\u001b[39m         rmtree(src)\n\u001b[32m    875\u001b[39m     \u001b[38;5;28;01melse\u001b[39;00m:\n\u001b[32m--> \u001b[39m\u001b[32m876\u001b[39m         \u001b[43mcopy_function\u001b[49m\u001b[43m(\u001b[49m\u001b[43msrc\u001b[49m\u001b[43m,\u001b[49m\u001b[43m \u001b[49m\u001b[43mreal_dst\u001b[49m\u001b[43m)\u001b[49m\n\u001b[32m    877\u001b[39m         os.unlink(src)\n\u001b[32m    878\u001b[39m \u001b[38;5;28;01mreturn\u001b[39;00m real_dst\n",
      "\u001b[36mFile \u001b[39m\u001b[32mC:\\Program Files\\WindowsApps\\PythonSoftwareFoundation.Python.3.13_3.13.1776.0_x64__qbz5n2kfra8p0\\Lib\\shutil.py:453\u001b[39m, in \u001b[36mcopy2\u001b[39m\u001b[34m(src, dst, follow_symlinks)\u001b[39m\n\u001b[32m    451\u001b[39m     flags |= _winapi.COPY_FILE_COPY_SYMLINK\n\u001b[32m    452\u001b[39m \u001b[38;5;28;01mtry\u001b[39;00m:\n\u001b[32m--> \u001b[39m\u001b[32m453\u001b[39m     \u001b[43m_winapi\u001b[49m\u001b[43m.\u001b[49m\u001b[43mCopyFile2\u001b[49m\u001b[43m(\u001b[49m\u001b[43msrc_\u001b[49m\u001b[43m,\u001b[49m\u001b[43m \u001b[49m\u001b[43mdst_\u001b[49m\u001b[43m,\u001b[49m\u001b[43m \u001b[49m\u001b[43mflags\u001b[49m\u001b[43m)\u001b[49m\n\u001b[32m    454\u001b[39m     \u001b[38;5;28;01mreturn\u001b[39;00m dst\n\u001b[32m    455\u001b[39m \u001b[38;5;28;01mexcept\u001b[39;00m \u001b[38;5;167;01mOSError\u001b[39;00m \u001b[38;5;28;01mas\u001b[39;00m exc:\n",
      "\u001b[31mFileNotFoundError\u001b[39m: [WinError 2] The system cannot find the file specified"
     ]
    }
   ],
   "source": [
    "shutil.move(\"tennis-ball-detection-6/train\",\n",
    "\"tennis-ball-detection-6/tennis-ball-detection-6/train\")\n",
    "shutil.move(\"tennis-ball-detection-6/test\",\n",
    "\"tennis-ball-detection-6/tennis-ball-detection-6/test\")\n",
    "shutil.move(\"tennis-ball-detection-6/valid\",\n",
    "\"tennis-ball-detection-6/tennis-ball-detection-6/valid\")"
   ]
  },
  {
   "cell_type": "code",
   "execution_count": 12,
   "id": "7235c45a",
   "metadata": {},
   "outputs": [
    {
     "name": "stdout",
     "output_type": "stream",
     "text": [
      "New https://pypi.org/project/ultralytics/8.3.176 available  Update with 'pip install -U ultralytics'\n",
      "Ultralytics 8.3.175  Python-3.13.6 torch-2.8.0+cpu CPU (Intel Core(TM) i7-8665UE 1.70GHz)\n",
      "\u001b[34m\u001b[1mengine\\trainer: \u001b[0magnostic_nms=False, amp=True, augment=False, auto_augment=randaugment, batch=16, bgr=0.0, box=7.5, cache=False, cfg=None, classes=None, close_mosaic=10, cls=0.5, conf=None, copy_paste=0.0, copy_paste_mode=flip, cos_lr=False, cutmix=0.0, data={datasetlocation}/data.yaml, degrees=0.0, deterministic=True, device=cpu, dfl=1.5, dnn=False, dropout=0.0, dynamic=False, embed=None, epochs=100, erasing=0.4, exist_ok=False, fliplr=0.5, flipud=0.0, format=torchscript, fraction=1.0, freeze=None, half=False, hsv_h=0.015, hsv_s=0.7, hsv_v=0.4, imgsz=640, int8=False, iou=0.7, keras=False, kobj=1.0, line_width=None, lr0=0.01, lrf=0.01, mask_ratio=4, max_det=300, mixup=0.0, mode=train, model=yolov5l6u.pt, momentum=0.937, mosaic=1.0, multi_scale=False, name=train2, nbs=64, nms=False, opset=None, optimize=False, optimizer=auto, overlap_mask=True, patience=100, perspective=0.0, plots=True, pose=12.0, pretrained=True, profile=False, project=None, rect=False, resume=False, retina_masks=False, save=True, save_conf=False, save_crop=False, save_dir=C:\\Users\\koichik\\Documents\\GitHub\\Kytoshi-Portfolio\\runs\\detect\\train2, save_frames=False, save_json=False, save_period=-1, save_txt=False, scale=0.5, seed=0, shear=0.0, show=False, show_boxes=True, show_conf=True, show_labels=True, simplify=True, single_cls=False, source=None, split=val, stream_buffer=False, task=detect, time=None, tracker=botsort.yaml, translate=0.1, val=True, verbose=True, vid_stride=1, visualize=False, warmup_bias_lr=0.1, warmup_epochs=3.0, warmup_momentum=0.8, weight_decay=0.0005, workers=8, workspace=None\n"
     ]
    },
    {
     "name": "stderr",
     "output_type": "stream",
     "text": [
      "Traceback (most recent call last):\n",
      "  File \u001b[35m\"c:\\Users\\koichik\\Documents\\GitHub\\Kytoshi-Portfolio\\ML Analysis System\\.venv\\Lib\\site-packages\\ultralytics\\engine\\trainer.py\"\u001b[0m, line \u001b[35m607\u001b[0m, in \u001b[35mget_dataset\u001b[0m\n",
      "    data = check_det_dataset(self.args.data)\n",
      "  File \u001b[35m\"c:\\Users\\koichik\\Documents\\GitHub\\Kytoshi-Portfolio\\ML Analysis System\\.venv\\Lib\\site-packages\\ultralytics\\data\\utils.py\"\u001b[0m, line \u001b[35m402\u001b[0m, in \u001b[35mcheck_det_dataset\u001b[0m\n",
      "    file = check_file(dataset)\n",
      "  File \u001b[35m\"c:\\Users\\koichik\\Documents\\GitHub\\Kytoshi-Portfolio\\ML Analysis System\\.venv\\Lib\\site-packages\\ultralytics\\utils\\checks.py\"\u001b[0m, line \u001b[35m568\u001b[0m, in \u001b[35mcheck_file\u001b[0m\n",
      "    raise FileNotFoundError(f\"'{file}' does not exist\")\n",
      "\u001b[1;35mFileNotFoundError\u001b[0m: \u001b[35m'{datasetlocation}/data.yaml' does not exist\u001b[0m\n",
      "\n",
      "The above exception was the direct cause of the following exception:\n",
      "\n",
      "Traceback (most recent call last):\n",
      "  File \u001b[35m\"<frozen runpy>\"\u001b[0m, line \u001b[35m198\u001b[0m, in \u001b[35m_run_module_as_main\u001b[0m\n",
      "  File \u001b[35m\"<frozen runpy>\"\u001b[0m, line \u001b[35m88\u001b[0m, in \u001b[35m_run_code\u001b[0m\n",
      "  File \u001b[35m\"c:\\Users\\koichik\\Documents\\GitHub\\Kytoshi-Portfolio\\ML Analysis System\\.venv\\Scripts\\yolo.exe\\__main__.py\"\u001b[0m, line \u001b[35m6\u001b[0m, in \u001b[35m<module>\u001b[0m\n",
      "    sys.exit(\u001b[31mentrypoint\u001b[0m\u001b[1;31m()\u001b[0m)\n",
      "             \u001b[31m~~~~~~~~~~\u001b[0m\u001b[1;31m^^\u001b[0m\n",
      "  File \u001b[35m\"c:\\Users\\koichik\\Documents\\GitHub\\Kytoshi-Portfolio\\ML Analysis System\\.venv\\Lib\\site-packages\\ultralytics\\cfg\\__init__.py\"\u001b[0m, line \u001b[35m983\u001b[0m, in \u001b[35mentrypoint\u001b[0m\n",
      "    \u001b[31mgetattr(model, mode)\u001b[0m\u001b[1;31m(**overrides)\u001b[0m  # default args from model\n",
      "    \u001b[31m~~~~~~~~~~~~~~~~~~~~\u001b[0m\u001b[1;31m^^^^^^^^^^^^^\u001b[0m\n",
      "  File \u001b[35m\"c:\\Users\\koichik\\Documents\\GitHub\\Kytoshi-Portfolio\\ML Analysis System\\.venv\\Lib\\site-packages\\ultralytics\\engine\\model.py\"\u001b[0m, line \u001b[35m793\u001b[0m, in \u001b[35mtrain\u001b[0m\n",
      "    self.trainer = \u001b[31m(trainer or self._smart_load(\"trainer\"))\u001b[0m\u001b[1;31m(overrides=args, _callbacks=self.callbacks)\u001b[0m\n",
      "                   \u001b[31m~~~~~~~~~~~~~~~~~~~~~~~~~~~~~~~~~~~~~~~~\u001b[0m\u001b[1;31m^^^^^^^^^^^^^^^^^^^^^^^^^^^^^^^^^^^^^^^^^^^\u001b[0m\n",
      "  File \u001b[35m\"c:\\Users\\koichik\\Documents\\GitHub\\Kytoshi-Portfolio\\ML Analysis System\\.venv\\Lib\\site-packages\\ultralytics\\engine\\trainer.py\"\u001b[0m, line \u001b[35m153\u001b[0m, in \u001b[35m__init__\u001b[0m\n",
      "    self.data = \u001b[31mself.get_dataset\u001b[0m\u001b[1;31m()\u001b[0m\n",
      "                \u001b[31m~~~~~~~~~~~~~~~~\u001b[0m\u001b[1;31m^^\u001b[0m\n",
      "  File \u001b[35m\"c:\\Users\\koichik\\Documents\\GitHub\\Kytoshi-Portfolio\\ML Analysis System\\.venv\\Lib\\site-packages\\ultralytics\\engine\\trainer.py\"\u001b[0m, line \u001b[35m611\u001b[0m, in \u001b[35mget_dataset\u001b[0m\n",
      "    raise RuntimeError(emojis(f\"Dataset '{clean_url(self.args.data)}' error ❌ {e}\")) from e\n",
      "\u001b[1;35mRuntimeError\u001b[0m: \u001b[35mDataset '{datasetlocation}/data.yaml' error  '{datasetlocation}/data.yaml' does not exist\u001b[0m\n"
     ]
    }
   ],
   "source": [
    "!yolo task=detect mode=train model=yolov5l6u.pt data={datasetlocation}/data.yaml epochs=100 imgsz=640"
   ]
  },
  {
   "cell_type": "code",
   "execution_count": null,
   "id": "cb4fa4f9",
   "metadata": {},
   "outputs": [],
   "source": []
  }
 ],
 "metadata": {
  "kernelspec": {
   "display_name": ".venv",
   "language": "python",
   "name": "python3"
  },
  "language_info": {
   "codemirror_mode": {
    "name": "ipython",
    "version": 3
   },
   "file_extension": ".py",
   "mimetype": "text/x-python",
   "name": "python",
   "nbconvert_exporter": "python",
   "pygments_lexer": "ipython3",
   "version": "3.13.6"
  }
 },
 "nbformat": 4,
 "nbformat_minor": 5
}
